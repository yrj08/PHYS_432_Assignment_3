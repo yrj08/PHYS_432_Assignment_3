{
 "cells": [
  {
   "cell_type": "markdown",
   "metadata": {},
   "source": [
    "# PHYS 432 HW 3, swimming in syrup\n",
    "\n",
    "Ruijia Yang, 2022-03-10"
   ]
  },
  {
   "cell_type": "code",
   "execution_count": 1,
   "metadata": {},
   "outputs": [],
   "source": [
    "import numpy as np\n",
    "import matplotlib.pyplot as plt\n",
    "%matplotlib inline"
   ]
  },
  {
   "cell_type": "markdown",
   "metadata": {},
   "source": [
    "Import sympy to solve the equation."
   ]
  },
  {
   "cell_type": "code",
   "execution_count": 11,
   "metadata": {},
   "outputs": [],
   "source": [
    "from sympy.solvers import solve\n",
    "from sympy import Symbol"
   ]
  },
  {
   "cell_type": "code",
   "execution_count": null,
   "metadata": {},
   "outputs": [],
   "source": [
    "x = Symbol('x', real=True)"
   ]
  },
  {
   "cell_type": "code",
   "execution_count": 178,
   "metadata": {},
   "outputs": [],
   "source": [
    "def total_drag(coeff, speed):\n",
    "    #return 189*coeff*speed**2 + 628*speed**3 + 0.13*(speed**3)*(170-(10**5)*(coeff/speed)) +\\\n",
    "    #        126*np.sqrt(coeff)*(speed**(3/2))*((10**5)*(coeff/speed)-10)**(1/2)\n",
    "    return (94+(10**5)*63)*coeff*speed**2 + 157*speed**3 + 0.13*(speed**3)*(160-(10**5)*(coeff/speed))"
   ]
  },
  {
   "cell_type": "code",
   "execution_count": 184,
   "metadata": {},
   "outputs": [
    {
     "data": {
      "text/plain": [
       "9400.0"
      ]
     },
     "execution_count": 184,
     "metadata": {},
     "output_type": "execute_result"
    }
   ],
   "source": [
    "total_drag(0.01, 100)#-(8.065E8)"
   ]
  },
  {
   "cell_type": "code",
   "execution_count": 185,
   "metadata": {},
   "outputs": [
    {
     "data": {
      "text/plain": [
       "[]"
      ]
     },
     "execution_count": 185,
     "metadata": {},
     "output_type": "execute_result"
    }
   ],
   "source": [
    "solve(total_drag(0.01, x)-(8.065E8), x)"
   ]
  },
  {
   "cell_type": "markdown",
   "metadata": {},
   "source": [
    "Generate evenly spaced $\\nu$ on a log scale; then solve equation for each $\\nu$ value."
   ]
  },
  {
   "cell_type": "code",
   "execution_count": 171,
   "metadata": {},
   "outputs": [],
   "source": [
    "nu_range = np.logspace(-2,2,100)"
   ]
  },
  {
   "cell_type": "code",
   "execution_count": 186,
   "metadata": {},
   "outputs": [],
   "source": [
    "speed_range = [solve(650*x**3-12812*ind_nu*x**2-(6.4E8), x) for ind_nu in nu_range]\n",
    "#speed_range = [solve(total_drag(ind_nu, x)-(6.4E8), x) for ind_nu in nu_range]"
   ]
  },
  {
   "cell_type": "markdown",
   "metadata": {},
   "source": [
    "Plotting velocity vs $\\nu$, and add different kinematic viscosity values"
   ]
  },
  {
   "cell_type": "code",
   "execution_count": 190,
   "metadata": {},
   "outputs": [
    {
     "data": {
      "image/png": "[encoded data removed]",
      "text/plain": [
       "<Figure size 432x288 with 1 Axes>"
      ]
     },
     "metadata": {
      "needs_background": "light"
     },
     "output_type": "display_data"
    }
   ],
   "source": [
    "plt.plot([0.01,0.01],[0,2200],'k-') # Water\n",
    "plt.plot([0.018,0.018],[0,2200],'b-.') # Beer\n",
    "plt.plot([0.3,0.3],[0,2200],'r:')     # Coconut oil\n",
    "plt.plot([0.6,0.6],[0,2200],'g--')     # Diesel\n",
    "plt.plot([0.73,0.73],[0,2200],linestyle=(0, (8, 2, 1, 2, 1, 2)))   # Honey\n",
    "plt.plot([30,30],[0,2200])       # Molasses\n",
    "\n",
    "plt.plot(nu_range,speed_range)\n",
    "\n",
    "plt.xscale('log')\n",
    "plt.xlabel('Kinematic viscosity (cm$^2$/s)')\n",
    "plt.ylabel('Swimming speed (cm/s)')\n",
    "plt.ylim([0,2050])\n",
    "plt.title('Swimming speed of a person as function of kinematic viscosity')\n",
    "plt.legend(['Water', 'Beer','Coconut oil','Diesel','Honey','Molasses'])\n",
    "plt.savefig('molasses.pdf',format='pdf')\n",
    "plt.show()"
   ]
  },
  {
   "cell_type": "markdown",
   "metadata": {},
   "source": [
    "Now let's look up some kinematic viscosities. \n",
    "\n",
    "Water: $\\nu_{\\textrm{water}} = 0.01\\textrm{ cm}^2\\textrm{/s}$\n",
    "\n",
    "Rest looking up from reference; all unit given in cm$^2$/s\n",
    "\n",
    "- Beer: 0.018\n",
    "\n",
    "- Coconut oil: $\\thicksim0.3$\n",
    "\n",
    "- Diesel 5D: $\\thicksim0.60$ (take an average between 86.6 and 35.2)\n",
    "\n",
    "- Molasses C, blackstrap: $\\thicksim30$ (take an order of magnitude)\n",
    "\n",
    "- Honey: 0.73\n",
    "\n",
    "__Reference__\n",
    "\n",
    "Engineering ToolBox, (2003). Liquids - Kinematic Viscosities [online]. Available at: https://www.engineeringtoolbox.com/kinematic-viscosity-d_397.html (Accessed 2022-03-10)."
   ]
  },
  {
   "cell_type": "markdown",
   "metadata": {},
   "source": [
    "Do the results make sense?\n",
    "\n",
    "To be honest, I don't think it fits my intuition. The velocity gets faster as the viscosity increases, which is a little strange for an object so crudely modelled as a bullet. Intuitionally, the drag would increase as the viscosity increases, however it becomes easier for a swimmer to exert forces on the liquid, but that is not being modelled in my case."
   ]
  },
  {
   "cell_type": "code",
   "execution_count": null,
   "metadata": {},
   "outputs": [],
   "source": []
  }
 ],
 "metadata": {
  "kernelspec": {
   "display_name": "Python 3",
   "language": "python",
   "name": "python3"
  },
  "language_info": {
   "codemirror_mode": {
    "name": "ipython",
    "version": 3
   },
   "file_extension": ".py",
   "mimetype": "text/x-python",
   "name": "python",
   "nbconvert_exporter": "python",
   "pygments_lexer": "ipython3",
   "version": "3.7.4"
  }
 },
 "nbformat": 4,
 "nbformat_minor": 2
}
